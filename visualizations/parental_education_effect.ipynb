# Title: Parental Education Level vs Student Performance
# File: parental_education_effect.ipynb

# Step 1: Import libraries
import pandas as pd
import seaborn as sns
import matplotlib.pyplot as plt

# Step 2: Load the dataset
df = pd.read_csv("StudentsPerformance.csv")

# Step 3: Group and aggregate average scores
avg_scores = df.groupby("parental level of education")[["math score", "reading score", "writing score"]].mean().reset_index()

# Step 4: Plotting the trends
plt.figure(figsize=(12, 6))
sns.lineplot(data=avg_scores, x="parental level of education", y="math score", marker='o', label="Math Score")
sns.lineplot(data=avg_scores, x="parental level of education", y="reading score", marker='o', label="Reading Score")
sns.lineplot(data=avg_scores, x="parental level of education", y="writing score", marker='o', label="Writing Score")

# Step 5: Final formatting
plt.title("Average Student Scores vs Parental Education Level")
plt.xticks(rotation=45)
plt.ylabel("Average Score")
plt.xlabel("Parental Level of Education")
plt.legend()
plt.tight_layout()
plt.grid(True)

# Step 6: Show plot
plt.show()
