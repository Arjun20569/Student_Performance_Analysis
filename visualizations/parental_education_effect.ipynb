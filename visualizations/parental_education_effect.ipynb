import pandas as pd
import seaborn as sns
import matplotlib.pyplot as plt

# Load dataset
df = pd.read_csv("StudentsPerformance.csv")

# Group and calculate average scores
avg_scores = df.groupby("parental level of education")[["math score", "reading score", "writing score"]].mean().reset_index()

# Plot
plt.figure(figsize=(12, 6))
sns.lineplot(data=avg_scores, x="parental level of education", y="math score", marker='o', label="Math Score")
sns.lineplot(data=avg_scores, x="parental level of education", y="reading score", marker='o', label="Reading Score")
sns.lineplot(data=avg_scores, x="parental level of education", y="writing score", marker='o', label="Writing Score")

plt.title("Average Student Scores vs Parental Education Level")
plt.xticks(rotation=45)
plt.ylabel("Average Score")
plt.xlabel("Parental Level of Education")
plt.legend()
plt.tight_layout()
plt.grid(True)
plt.show()
