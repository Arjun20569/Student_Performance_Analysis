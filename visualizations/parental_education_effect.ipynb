{
 "cells": [
  {
   "cell_type": "code",
   "execution_count": null,
   "metadata": {},
   "outputs": [],
   "source": [
    "import pandas as pd\n",
    "import seaborn as sns\n",
    "import matplotlib.pyplot as plt\n",
    "\n",
    "df = pd.read_csv(\"StudentsPerformance.csv\")\n",
    "\n",
    "avg_scores = df.groupby(\"parental level of education\")[[\"math score\", \"reading score\", \"writing score\"]].mean().reset_index()\n",
    "\n",
    "plt.figure(figsize=(12, 6))\n",
    "sns.lineplot(data=avg_scores, x=\"parental level of education\", y=\"math score\", marker='o', label=\"Math Score\")\n",
    "sns.lineplot(data=avg_scores, x=\"parental level of education\", y=\"reading score\", marker='o', label=\"Reading Score\")\n",
    "sns.lineplot(data=avg_scores, x=\"parental level of education\", y=\"writing score\", marker='o', label=\"Writing Score\")\n",
    "\n",
    "plt.title(\"Average Student Scores vs Parental Education Level\")\n",
    "plt.xticks(rotation=45)\n",
    "plt.ylabel(\"Average Score\")\n",
    "plt.xlabel(\"Parental Level of Education\")\n",
    "plt.legend()\n",
    "plt.tight_layout()\n",
    "plt.grid(True)\n",
    "plt.show()"
   ]
  }
 ],
 "metadata": {
  "kernelspec": {
   "display_name": "Python 3",
   "language": "python",
   "name": "python3"
  },
  "language_info": {
   "codemirror_mode": {
    "name": "ipython",
    "version": 3
   },
   "file_extension": ".py",
   "mimetype": "text/x-python",
   "name": "python",
   "nbconvert_exporter": "python",
   "pygments_lexer": "ipython3",
   "version": "3.12.0"
  }
 },
 "nbformat": 4,
 "nbformat_minor": 5
}
