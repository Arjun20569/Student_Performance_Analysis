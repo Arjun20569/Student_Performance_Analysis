import pandas as pd
import seaborn as sns
import matplotlib.pyplot as plt

# Step 1: Load the dataset
df = pd.read_csv("StudentsPerformance.csv")

# Step 2: Select score columns
score_df = df[["math score", "reading score", "writing score"]]

# Step 3: Correlation calculation
correlation = score_df.corr()

# Step 4: Plot heatmap
plt.figure(figsize=(8, 6))
sns.heatmap(correlation, annot=True, cmap="YlGnBu", fmt=".2f", linewidths=0.5)
plt.title("Correlation Between Scores")
plt.tight_layout()
plt.show()
