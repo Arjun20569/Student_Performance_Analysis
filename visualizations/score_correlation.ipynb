# Title: Correlation Between Student Scores
# File: score_correlation.ipynb

# Step 1: Import necessary libraries
import pandas as pd
import seaborn as sns
import matplotlib.pyplot as plt

# Step 2: Load the dataset
df = pd.read_csv("StudentsPerformance.csv")

# Step 3: Select only score columns
score_df = df[["math score", "reading score", "writing score"]]

# Step 4: Compute correlation matrix
correlation = score_df.corr()

# Step 5: Plot the heatmap
plt.figure(figsize=(8, 6))
sns.heatmap(correlation, annot=True, cmap="YlGnBu", fmt=".2f", linewidths=0.5)

# Step 6: Final formatting
plt.title("Correlation Heatmap Between Math, Reading, and Writing Scores")
plt.tight_layout()

# Step 7: Show plot
plt.show()
